{
  "nbformat": 4,
  "nbformat_minor": 0,
  "metadata": {
    "colab": {
      "provenance": []
    },
    "kernelspec": {
      "name": "python3",
      "display_name": "Python 3"
    },
    "language_info": {
      "name": "python"
    }
  },
  "cells": [
    {
      "cell_type": "markdown",
      "source": [
        "1. Assume this list: 10,20,30,40, print all the elements."
      ],
      "metadata": {
        "id": "bxTE1a0LKTiS"
      }
    },
    {
      "cell_type": "code",
      "source": [
        "data = [10,20,30,40]\n",
        "for i in data:\n",
        "  print(i)\n",
        "\n",
        "# Time complexity: O(n) - O(4)\n",
        "# Space complexity: -"
      ],
      "metadata": {
        "colab": {
          "base_uri": "https://localhost:8080/"
        },
        "id": "bMD0BJvfKgfA",
        "outputId": "03fddc85-eb49-46dc-f0ad-df0309b50559"
      },
      "execution_count": 2,
      "outputs": [
        {
          "output_type": "stream",
          "name": "stdout",
          "text": [
            "10\n",
            "20\n",
            "30\n",
            "40\n"
          ]
        }
      ]
    },
    {
      "cell_type": "markdown",
      "source": [
        "2. Print the first and the last elements of your data, separated by a comma and space. `10, 20`"
      ],
      "metadata": {
        "id": "UWP1XmngLQph"
      }
    },
    {
      "cell_type": "code",
      "source": [
        "data = [10,20,30,40]\n",
        "print(str(data[0])+  \",\",data[-1])\n",
        "print(f\"{data[0]}, {data[-1]}\")\n",
        "# Time complexity: O(1)\n",
        "# Space complexity: -"
      ],
      "metadata": {
        "colab": {
          "base_uri": "https://localhost:8080/"
        },
        "id": "ceg62afOLbfy",
        "outputId": "b6082f3e-a87f-4ceb-bc56-b823f9ebae5b"
      },
      "execution_count": 6,
      "outputs": [
        {
          "output_type": "stream",
          "name": "stdout",
          "text": [
            "10, 40\n",
            "10, 40\n"
          ]
        }
      ]
    },
    {
      "cell_type": "code",
      "source": [],
      "metadata": {
        "id": "rM2Ak-faMZv6"
      },
      "execution_count": null,
      "outputs": []
    },
    {
      "cell_type": "markdown",
      "source": [
        "3. Count how many elements in a list. You cannot use a build-in function like `len`."
      ],
      "metadata": {
        "id": "2jEJjX35McxI"
      }
    },
    {
      "cell_type": "code",
      "source": [
        "data = [10,20,30,40]\n",
        "\n",
        "count=0\n",
        "for _ in data:\n",
        "  count+=1\n",
        "print(count)"
      ],
      "metadata": {
        "colab": {
          "base_uri": "https://localhost:8080/"
        },
        "id": "cDu3Tx0JMikB",
        "outputId": "6d9e54e2-7125-497d-c404-1dbd6c643007"
      },
      "execution_count": 7,
      "outputs": [
        {
          "output_type": "stream",
          "name": "stdout",
          "text": [
            "4\n"
          ]
        }
      ]
    },
    {
      "cell_type": "markdown",
      "source": [
        "4. Create a function called `my_len`. The function will accept a list and will return the lenght of the list.\n"
      ],
      "metadata": {
        "id": "d-SMPdEBNRRV"
      }
    },
    {
      "cell_type": "code",
      "source": [
        "def my_len(data):\n",
        "  count=0\n",
        "  for _ in data:\n",
        "    count+=1\n",
        "  return(count)\n",
        "print(my_len([1,2,3,4]))\n",
        "# Time: O(n)\n",
        "# Space: -"
      ],
      "metadata": {
        "colab": {
          "base_uri": "https://localhost:8080/"
        },
        "id": "TYlm0M6INQXP",
        "outputId": "fd89961b-33d7-48a7-947f-f645fbae7bf1"
      },
      "execution_count": 10,
      "outputs": [
        {
          "output_type": "stream",
          "name": "stdout",
          "text": [
            "4\n"
          ]
        }
      ]
    },
    {
      "cell_type": "markdown",
      "source": [
        "5. Count only the positive elements of your list."
      ],
      "metadata": {
        "id": "kZRBd8L7Omik"
      }
    },
    {
      "cell_type": "code",
      "source": [
        "data = [-10,20,-30,40]\n",
        "\n",
        "count=0\n",
        "for i in data:\n",
        "  if i>0:\n",
        "    count+=1\n",
        "print(count)\n",
        "\n",
        "# Time: O(n)\n",
        "# Space: -"
      ],
      "metadata": {
        "colab": {
          "base_uri": "https://localhost:8080/"
        },
        "id": "qgT4xJ42OTrV",
        "outputId": "79a0808e-64a7-4f55-92f5-995433dd6352"
      },
      "execution_count": 12,
      "outputs": [
        {
          "output_type": "stream",
          "name": "stdout",
          "text": [
            "2\n"
          ]
        }
      ]
    },
    {
      "cell_type": "markdown",
      "source": [
        "6. Find the sum of the negative elements of your list."
      ],
      "metadata": {
        "id": "p5uWFu4tPUi1"
      }
    },
    {
      "cell_type": "code",
      "source": [
        "data = [-10,20,-30,40]\n",
        "mysum=0\n",
        "for i in data:\n",
        "  if i<0:\n",
        "    mysum+=i\n",
        "\n",
        "print(mysum)\n",
        "# Time: O(n)"
      ],
      "metadata": {
        "colab": {
          "base_uri": "https://localhost:8080/"
        },
        "id": "RLR7Bh6QPVwb",
        "outputId": "52bd0a47-9efa-4d0a-b350-a4aae0125e7a"
      },
      "execution_count": 13,
      "outputs": [
        {
          "output_type": "stream",
          "name": "stdout",
          "text": [
            "-40\n"
          ]
        }
      ]
    },
    {
      "cell_type": "markdown",
      "source": [
        "7. Swap the first with the last element of the list."
      ],
      "metadata": {
        "id": "p7ISqK-AQC7k"
      }
    },
    {
      "cell_type": "code",
      "source": [
        "data = [-10,20,-30,40]\n",
        "temp = data[0]\n",
        "data[0]=data[-1]\n",
        "data[-1]=temp\n",
        "print(data)\n",
        "# Time: O(1)\n",
        "# Space: -"
      ],
      "metadata": {
        "colab": {
          "base_uri": "https://localhost:8080/"
        },
        "id": "Z3kW8Uc7QHdq",
        "outputId": "a9b0b5a0-09be-4e3c-9fde-228ede01180e"
      },
      "execution_count": 14,
      "outputs": [
        {
          "output_type": "stream",
          "name": "stdout",
          "text": [
            "[40, 20, -30, -10]\n"
          ]
        }
      ]
    },
    {
      "cell_type": "markdown",
      "source": [
        "8. Print the indices of the list using a for loop."
      ],
      "metadata": {
        "id": "H4uMoy-NQ9nc"
      }
    },
    {
      "cell_type": "code",
      "source": [
        "data = [40, 20, -30, -10]\n",
        "index=0\n",
        "for _ in data:\n",
        "  print(index)\n",
        "  index+=1\n",
        "\n",
        "Space: O(n)\n",
        "Time: O(1)"
      ],
      "metadata": {
        "colab": {
          "base_uri": "https://localhost:8080/"
        },
        "id": "3YH0LBqoQ9Iw",
        "outputId": "6fbc0ebe-3771-46cd-fc43-30ee5c2dae04"
      },
      "execution_count": 15,
      "outputs": [
        {
          "output_type": "stream",
          "name": "stdout",
          "text": [
            "0\n",
            "1\n",
            "2\n",
            "3\n"
          ]
        }
      ]
    },
    {
      "cell_type": "markdown",
      "source": [
        "9. Find the `max` of the list."
      ],
      "metadata": {
        "id": "lDtHKdO0RnsF"
      }
    },
    {
      "cell_type": "code",
      "source": [
        "data = [40, 20, -30, -10]\n",
        "\n",
        "mymax=data[0]\n",
        "# max = float('-inf')\n",
        "\n",
        "for i in data:\n",
        "  if i>mymax:\n",
        "    mymax=i\n",
        "print(mymax)\n",
        "# Time: O(n)\n",
        "# Space: -"
      ],
      "metadata": {
        "colab": {
          "base_uri": "https://localhost:8080/"
        },
        "id": "3nHiyvERRp8U",
        "outputId": "140ebee5-0494-4e20-ff5f-41e766390274"
      },
      "execution_count": 18,
      "outputs": [
        {
          "output_type": "stream",
          "name": "stdout",
          "text": [
            "40\n"
          ]
        }
      ]
    },
    {
      "cell_type": "markdown",
      "source": [
        "10. Find the second highest number of the list."
      ],
      "metadata": {
        "id": "C3FHloh1Sp99"
      }
    },
    {
      "cell_type": "code",
      "source": [
        "data = [40, 20, -30, -10]\n",
        "\n",
        "first = second = float('-inf')\n",
        "\n",
        "for num in data:\n",
        "  if num>first:\n",
        "    second =first\n",
        "    first=num\n",
        "  elif num>second:\n",
        "    second=num\n",
        "print(second)\n",
        "\n",
        "# Time: O(n)"
      ],
      "metadata": {
        "colab": {
          "base_uri": "https://localhost:8080/"
        },
        "id": "fXCXBw2oSrQe",
        "outputId": "405f7c71-e32b-43e0-ba2f-5994182bfc4c"
      },
      "execution_count": 20,
      "outputs": [
        {
          "output_type": "stream",
          "name": "stdout",
          "text": [
            "20\n"
          ]
        }
      ]
    }
  ]
}