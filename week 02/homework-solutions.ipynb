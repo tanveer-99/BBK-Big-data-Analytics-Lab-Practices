{
 "cells": [
  {
   "cell_type": "code",
   "execution_count": 13,
   "id": "08ee019c",
   "metadata": {},
   "outputs": [],
   "source": [
    "with open(\"rockyou.txt\", \"r\", encoding=\"latin-1\") as file:\n",
    "    lines = file.readlines()"
   ]
  },
  {
   "cell_type": "code",
   "execution_count": 14,
   "id": "8c1af5a7",
   "metadata": {},
   "outputs": [
    {
     "name": "stdout",
     "output_type": "stream",
     "text": [
      "701664\n"
     ]
    },
    {
     "data": {
      "text/plain": [
       "701664"
      ]
     },
     "execution_count": 14,
     "metadata": {},
     "output_type": "execute_result"
    }
   ],
   "source": [
    "# count how many passwords start with the letter 'a'\n",
    "def start_with_a(lines):\n",
    "    count = 0\n",
    "    for line in lines:\n",
    "        if line.strip().startswith('a'):\n",
    "            count +=1\n",
    "    return count\n",
    "print(start_with_a(lines))\n",
    "start_with_a(lines)"
   ]
  },
  {
   "cell_type": "code",
   "execution_count": 15,
   "id": "e57416f6",
   "metadata": {},
   "outputs": [
    {
     "data": {
      "text/plain": [
       "1377251"
      ]
     },
     "execution_count": 15,
     "metadata": {},
     "output_type": "execute_result"
    }
   ],
   "source": [
    "# Count how many anagram groups exist in the password list\n",
    "def count_anagram_groups(passwords):\n",
    "    groups = {}\n",
    "    for p in passwords:\n",
    "        key = ''.join(sorted(p.strip()))\n",
    "        if key in groups:\n",
    "            groups[key].append(p.strip())\n",
    "        else:\n",
    "            groups[key] = [p.strip()]\n",
    "    \n",
    "    count = 0\n",
    "    for group in groups.values():\n",
    "        if len(group) > 1:\n",
    "            count += 1\n",
    "    return count\n",
    "count_anagram_groups(lines)"
   ]
  },
  {
   "cell_type": "code",
   "execution_count": 16,
   "id": "d145e48f",
   "metadata": {},
   "outputs": [
    {
     "data": {
      "text/plain": [
       "13928"
      ]
     },
     "execution_count": 16,
     "metadata": {},
     "output_type": "execute_result"
    }
   ],
   "source": [
    "# Count how many passwords are palindromes\n",
    "def palindromes(passwords):\n",
    "    count = 0\n",
    "    for p in passwords:\n",
    "        word = p.strip()\n",
    "        if word == word[::-1]:\n",
    "            count += 1\n",
    "    return count\n",
    "palindromes(lines)"
   ]
  },
  {
   "cell_type": "code",
   "execution_count": 17,
   "id": "23b14391",
   "metadata": {},
   "outputs": [
    {
     "data": {
      "text/plain": [
       "[('0', 906337), ('m', 865018), ('s', 836638), ('a', 701664), ('c', 639699)]"
      ]
     },
     "execution_count": 17,
     "metadata": {},
     "output_type": "execute_result"
    }
   ],
   "source": [
    "#  Find the top 5 most frequent starting letters\n",
    "def top_5_starting_letters(passwords):\n",
    "    freq = {}\n",
    "    for p in passwords:\n",
    "        word = p.strip()\n",
    "        if word:\n",
    "            first = word[0]\n",
    "            if first in freq:\n",
    "                freq[first] += 1\n",
    "            else:\n",
    "                freq[first] = 1\n",
    "    items = list(freq.items())\n",
    "    for i in range(len(items)):\n",
    "        for j in range(i+1, len(items)):\n",
    "            if items[j][1] > items[i][1]:\n",
    "                items[i], items[j] = items[j], items[i]\n",
    "    \n",
    "    return items[:5]\n",
    "\n",
    "top_5_starting_letters(lines)"
   ]
  },
  {
   "cell_type": "code",
   "execution_count": 18,
   "id": "75f5562a",
   "metadata": {},
   "outputs": [
    {
     "data": {
      "text/plain": [
       "2346842"
      ]
     },
     "execution_count": 18,
     "metadata": {},
     "output_type": "execute_result"
    }
   ],
   "source": [
    "# Count how many passwords contain only numerics\n",
    "def only_numeric(passwords):\n",
    "    count = 0\n",
    "    for p in passwords:\n",
    "        word = p.strip()\n",
    "        if word.isnumeric():\n",
    "            count +=1\n",
    "    return count\n",
    "only_numeric(lines)"
   ]
  },
  {
   "cell_type": "code",
   "execution_count": 19,
   "id": "8107cdd8",
   "metadata": {},
   "outputs": [
    {
     "data": {
      "text/plain": [
       "\"<div align=\\\\\\\\\\\\\\\\\\\\\\\\'center\\\\\\\\\\\\\\\\\\\\\\\\' style=\\\\\\\\\\\\\\\\\\\\\\\\'font:bold 11px Verdana; width:310px\\\\\\\\\\\\\\\\\\\\\\\\'><a style=\\\\\\\\\\\\\\\\\\\\\\\\'background-color:#eeeeee;display:block;width:310px;border:solid 2px black; padding:5px\\\\\\\\\\\\\\\\\\\\\\\\' href=\\\\\\\\\\\\\\\\\\\\\\\\'http://www.musik-live.net\\\\\\\\\\\\\\\\\\\\\\\\' target=\\\\\\\\\\\\\\\\\\\\\\\\'_blank\\\\\\\\\\\\\\\\\\\\\\\\'>Playing/Tangga\""
      ]
     },
     "execution_count": 19,
     "metadata": {},
     "output_type": "execute_result"
    }
   ],
   "source": [
    "# Find the longest password in the list\n",
    "def longest_pass(password):\n",
    "    longest = \"\"\n",
    "    for p in password:\n",
    "        word = p.strip()\n",
    "        if len(word) > len(longest):\n",
    "            longest = word\n",
    "    return longest\n",
    "longest_pass(lines)"
   ]
  },
  {
   "cell_type": "code",
   "execution_count": 20,
   "id": "c1a8db01",
   "metadata": {},
   "outputs": [
    {
     "data": {
      "text/plain": [
       "2966005"
      ]
     },
     "execution_count": 20,
     "metadata": {},
     "output_type": "execute_result"
    }
   ],
   "source": [
    "# Count how many passwords are exactly 8 characters long\n",
    "def eight_char_long(passwords):\n",
    "    count = 0\n",
    "    for p in passwords:\n",
    "        word = p.strip()\n",
    "        if len(word) == 8:\n",
    "            count +=1\n",
    "    return count\n",
    "eight_char_long(lines)"
   ]
  },
  {
   "cell_type": "code",
   "execution_count": 21,
   "id": "13c8c544",
   "metadata": {},
   "outputs": [
    {
     "data": {
      "text/plain": [
       "3726774"
      ]
     },
     "execution_count": 21,
     "metadata": {},
     "output_type": "execute_result"
    }
   ],
   "source": [
    "# Count how many passwords are made of only lowercase letters\n",
    "def only_lowercase(passwords):\n",
    "    count = 0\n",
    "    for p in passwords:\n",
    "        if p.strip().islower() and p.strip().isalpha():\n",
    "            count +=1\n",
    "    return count\n",
    "only_lowercase(lines)"
   ]
  },
  {
   "cell_type": "code",
   "execution_count": 22,
   "id": "e232087c",
   "metadata": {},
   "outputs": [
    {
     "data": {
      "text/plain": [
       "276782"
      ]
     },
     "execution_count": 22,
     "metadata": {},
     "output_type": "execute_result"
    }
   ],
   "source": [
    "# Count how many passwords contain the substring \"123\"\n",
    "def contain_123(passwords):\n",
    "    count = 0\n",
    "    for p in passwords:\n",
    "        word = p.strip()\n",
    "        if '123' in word:\n",
    "            count +=1\n",
    "    return count\n",
    "contain_123(lines)"
   ]
  },
  {
   "cell_type": "code",
   "execution_count": 23,
   "id": "cf20c0b9",
   "metadata": {},
   "outputs": [
    {
     "data": {
      "text/plain": [
       "9"
      ]
     },
     "execution_count": 23,
     "metadata": {},
     "output_type": "execute_result"
    }
   ],
   "source": [
    "# Calculate the average length of all passwords\n",
    "def avg_length(passwords):\n",
    "    total = 0\n",
    "    count = 0\n",
    "    for p in passwords:\n",
    "        total = total + len(p)\n",
    "        count +=1\n",
    "    avg = total//count\n",
    "    return avg\n",
    "avg_length(lines)"
   ]
  },
  {
   "cell_type": "code",
   "execution_count": null,
   "id": "8fdd5e9b",
   "metadata": {},
   "outputs": [],
   "source": []
  }
 ],
 "metadata": {
  "kernelspec": {
   "display_name": "Python 3",
   "language": "python",
   "name": "python3"
  },
  "language_info": {
   "codemirror_mode": {
    "name": "ipython",
    "version": 3
   },
   "file_extension": ".py",
   "mimetype": "text/x-python",
   "name": "python",
   "nbconvert_exporter": "python",
   "pygments_lexer": "ipython3",
   "version": "3.13.0"
  }
 },
 "nbformat": 4,
 "nbformat_minor": 5
}
