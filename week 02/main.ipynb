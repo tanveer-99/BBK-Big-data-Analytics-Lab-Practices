{
 "cells": [
  {
   "cell_type": "code",
   "execution_count": 3,
   "id": "db9828ac-b51d-481f-aad2-cc106257296b",
   "metadata": {},
   "outputs": [],
   "source": [
    "with open(\"rockyou.txt\", \"r\", encoding=\"latin-1\") as file:\n",
    "    lines = file.readlines()\n",
    "\n",
    "# Time: O(n) – reads all lines once\n",
    "# Space: O(n) – stores all lines in memory"
   ]
  },
  {
   "cell_type": "code",
   "execution_count": 6,
   "id": "422705e1-f2d2-4a81-91b3-7eebebd2d5f0",
   "metadata": {},
   "outputs": [
    {
     "name": "stdout",
     "output_type": "stream",
     "text": [
      "123456\n",
      " 0\n",
      "12345\n",
      " 1\n",
      "123456789\n",
      " 2\n",
      "password\n",
      " 3\n",
      "iloveyou\n",
      " 4\n"
     ]
    }
   ],
   "source": [
    "# Print the first 5 lines from the file\n",
    "\n",
    "count = 0\n",
    "for line in lines:\n",
    "    print(line, count)\n",
    "    if count == 4:\n",
    "        break\n",
    "    count += 1\n",
    "\n",
    "# Time: O(5) ≈ O(1)\n",
    "# Space: O(n) – entire file loaded in memory"
   ]
  },
  {
   "cell_type": "code",
   "execution_count": 9,
   "id": "f93b5e33-7cd8-4752-8a9f-5705a987bada",
   "metadata": {},
   "outputs": [
    {
     "name": "stdout",
     "output_type": "stream",
     "text": [
      "123456\n",
      "12345\n",
      "123456789\n",
      "password\n",
      "iloveyou\n"
     ]
    }
   ],
   "source": [
    "#Use strip() to remove extra whitespace (like newlines) from each line\n",
    "count = 0\n",
    "for line in lines:\n",
    "    print(line.strip())\n",
    "    if count==4:\n",
    "        break\n",
    "    count +=1\n",
    "\n",
    "# Time: O(5)\n",
    "# Space: O(n)"
   ]
  },
  {
   "cell_type": "code",
   "execution_count": 10,
   "id": "22577402-5a93-4383-b520-9f6231ea2d47",
   "metadata": {},
   "outputs": [],
   "source": [
    "# Define a linear search function in fun.py\n",
    "def linear_Search(list, key):\n",
    "    for item in list:\n",
    "        if item==key:\n",
    "            return True\n",
    "    return False\n",
    "\n",
    "# Time: O(n) – worst case when key is not found\n",
    "# Space: O(1)"
   ]
  },
  {
   "cell_type": "code",
   "execution_count": 11,
   "id": "44d0562b-3f8b-4ec9-9fd6-6b5e7593b90c",
   "metadata": {},
   "outputs": [],
   "source": [
    "# Move the file reading logic into a reusable function\n",
    "def read_txt(file):\n",
    "    with open(file, 'r', encoding='latin-1') as file:\n",
    "        return file.readlines()\n",
    "\n",
    "# Time: O(n)\n",
    "# Space: O(n"
   ]
  },
  {
   "cell_type": "code",
   "execution_count": 14,
   "id": "f0c76ada-6e2d-44d9-aa10-380a25625581",
   "metadata": {},
   "outputs": [
    {
     "name": "stdout",
     "output_type": "stream",
     "text": [
      "True\n"
     ]
    }
   ],
   "source": [
    "# Use the main block to test functions when running lab2.py directly\n",
    "if __name__ == \"__main__\":\n",
    "    print(linear_Search(lines, \"iloveyou\\n\"))\n",
    "\n",
    "# Purpose: prevents code from executing when the script is imported elsewhere\n"
   ]
  },
  {
   "cell_type": "code",
   "execution_count": 16,
   "id": "550d9427-c7b3-4220-b263-41e3014bf334",
   "metadata": {},
   "outputs": [],
   "source": [
    "# Print only the first x items in a list\n",
    "def my_head(list, x):\n",
    "    count = 0\n",
    "    for item in list:\n",
    "        print(item)\n",
    "        count += 1\n",
    "        if count == x:\n",
    "            break\n",
    "\n",
    "# Time: O(x)\n",
    "# Space: O(1)"
   ]
  },
  {
   "cell_type": "code",
   "execution_count": 17,
   "id": "e879a69a-38ee-4c68-9053-c40e2036349d",
   "metadata": {},
   "outputs": [],
   "source": [
    "# Count how many records (lines) exist in the list\n",
    "def my_len(list):\n",
    "    count = 0\n",
    "    for _ in list:\n",
    "        count += 1\n",
    "    return count   \n",
    "\n",
    "# Time: O(n)\n",
    "# Space: O(1)"
   ]
  },
  {
   "cell_type": "code",
   "execution_count": 18,
   "id": "d8f203fe-b146-48bf-9a4c-398bd7f30df4",
   "metadata": {},
   "outputs": [],
   "source": [
    "# Count how many items in the list contain only digits\n",
    "def only_digit(list):\n",
    "    count = 0\n",
    "    for item in list:\n",
    "        if item.strip().isDigit():\n",
    "            count +=1\n",
    "    return count\n",
    "\n",
    "# Time: O(n)\n",
    "# Space: O(1)"
   ]
  },
  {
   "cell_type": "code",
   "execution_count": 19,
   "id": "1853e623-7ac8-4d05-a826-b132af28a7f8",
   "metadata": {},
   "outputs": [],
   "source": [
    "# Check for duplicate entries using a set\n",
    "def has_duplicates(data):\n",
    "    seen = set()\n",
    "    for item in data:\n",
    "        item = item.strip()\n",
    "        if item in seen:\n",
    "            return True\n",
    "        seen.add(item)\n",
    "    return False\n",
    "\n",
    "# Time: O(n)\n",
    "# Space: O(n)"
   ]
  },
  {
   "cell_type": "code",
   "execution_count": 20,
   "id": "59d109ea-aa8d-4c14-a551-74e3ceed9a9e",
   "metadata": {},
   "outputs": [],
   "source": [
    "# Check for duplicates using nested loops (inefficient)\n",
    "def has_duplicates_quadratic(data):\n",
    "    n = len(data)\n",
    "    for i in range(n):\n",
    "        for j in range(i + 1, n):\n",
    "            if data[i].strip() == data[j].strip():\n",
    "                print(\"Duplicate found:\", data[i].strip())\n",
    "                return True\n",
    "    print(\"No duplicates found.\")\n",
    "    return False\n",
    "# Time: O(n²)\n",
    "# Space: O(1)\n"
   ]
  },
  {
   "cell_type": "code",
   "execution_count": 21,
   "id": "524c957e-b192-4c06-bb10-8d9759bbd124",
   "metadata": {},
   "outputs": [
    {
     "name": "stdout",
     "output_type": "stream",
     "text": [
      "Execution time:  0.00013947486877441406\n"
     ]
    }
   ],
   "source": [
    "# Measure the execution time of code using time\n",
    "import time\n",
    "start = time.time()\n",
    "# code to measure\n",
    "end = time.time()\n",
    "print(\"Execution time: \", end-start)\n",
    "\n",
    "# Time: O(1)\n",
    "# Space: O(1"
   ]
  },
  {
   "cell_type": "code",
   "execution_count": 22,
   "id": "52c4b506-3895-46ca-9146-0ad3400ac6a3",
   "metadata": {},
   "outputs": [],
   "source": [
    "# Write a function called bubble_sort that takes a list of passwords and sorts it in ascending order using the Bubble Sort algorithm\n",
    "def bubble_sort(arr):\n",
    "    n = len(arr)\n",
    "    for i in range(n):\n",
    "        for j in range(0, n-1-i):\n",
    "            if arr[j] > arr[j+1]:\n",
    "                arr[j], arr[j+1] = arr[j+1], arr[j]\n",
    "    return arr"
   ]
  },
  {
   "cell_type": "code",
   "execution_count": 24,
   "id": "2609171d-58ae-49e4-b3e4-3f050fb632de",
   "metadata": {},
   "outputs": [
    {
     "name": "stdout",
     "output_type": "stream",
     "text": [
      "\u0004*\u00037Â¡Vamos!\u0003\n",
      "\n",
      "a6_123\n",
      "\n",
      "abygurl69\n",
      "\n",
      "ie168\n",
      "\n",
      "\n",
      "\n"
     ]
    }
   ],
   "source": [
    "# Sort the list in-place and print the first 5 items\n",
    "lines.sort()\n",
    "my_head(lines, 5)\n",
    "\n",
    "# Time: O(n log n)\n",
    "# Space: O(1) in-place"
   ]
  },
  {
   "cell_type": "code",
   "execution_count": 25,
   "id": "6472ad33-158f-4624-956d-3b43affc4aa9",
   "metadata": {},
   "outputs": [],
   "source": [
    "# Binary search function for sorted lists\n",
    "def binary_search(alist, key):\n",
    "    low = 0\n",
    "    high = len(alist) - 1\n",
    "\n",
    "    while low <= high:\n",
    "        mid = (low + high) // 2\n",
    "        if alist[mid] == key:\n",
    "            return True\n",
    "        elif alist[mid] < key:\n",
    "            low = mid + 1\n",
    "        else:\n",
    "            high = mid - 1\n",
    "    return False\n",
    "\n",
    "# Time: O(log n)\n",
    "# Space: O(1)"
   ]
  },
  {
   "cell_type": "code",
   "execution_count": 28,
   "id": "00e69281-c11f-4da6-ae0e-ebfcc3781142",
   "metadata": {},
   "outputs": [],
   "source": [
    "# Create a frequency dictionary to count occurrences\n",
    "def frequency_dict(data):\n",
    "    freq = {}\n",
    "    for item in data:\n",
    "        item = item.strip()\n",
    "        if item in freq:\n",
    "            freq[item] += 1\n",
    "        else:\n",
    "            freq[item] == 1 \n",
    "    return freq\n",
    "\n",
    "# Time: O(n)\n",
    "# Space: O(n"
   ]
  },
  {
   "cell_type": "code",
   "execution_count": null,
   "id": "d2217f22-bf4b-4841-85b1-59df10a572fc",
   "metadata": {},
   "outputs": [],
   "source": [
    "# Find the most frequent item in a frequency dictionary\n",
    "def get_most_frequent(freq_dict):\n",
    "    max_key = None\n",
    "    max_value = 0\n",
    "\n",
    "    for key in freq_dict:\n",
    "        if freq_dict[key] > max_value:\n",
    "            max_value = freq_dict[key]\n",
    "            max_key = key\n",
    "\n",
    "    return max_key, max_value\n",
    "\n",
    "# Time: O(n)\n",
    "# Space: O(1)"
   ]
  }
 ],
 "metadata": {
  "kernelspec": {
   "display_name": "Python 3 (ipykernel)",
   "language": "python",
   "name": "python3"
  },
  "language_info": {
   "codemirror_mode": {
    "name": "ipython",
    "version": 3
   },
   "file_extension": ".py",
   "mimetype": "text/x-python",
   "name": "python",
   "nbconvert_exporter": "python",
   "pygments_lexer": "ipython3",
   "version": "3.13.0"
  }
 },
 "nbformat": 4,
 "nbformat_minor": 5
}
