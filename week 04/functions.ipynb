{
 "cells": [
  {
   "cell_type": "markdown",
   "id": "096535d2",
   "metadata": {},
   "source": [
    "### Python functions\n",
    "\n",
    "Let's explore all common ways to define a `sum_of_2` function in Python, focusing on different combinations of:\n",
    "\n",
    "- Positional arguments\n",
    "- Default values\n",
    "- Keyword arguments\n",
    "- Dictionary unpacking"
   ]
  },
  {
   "cell_type": "code",
   "execution_count": 3,
   "id": "705d4709",
   "metadata": {},
   "outputs": [
    {
     "name": "stdout",
     "output_type": "stream",
     "text": [
      "8\n"
     ]
    }
   ],
   "source": [
    "# basic positional arguments\n",
    "def sum_of_2(a, b):\n",
    "    return a + b\n",
    "\n",
    "# Usage\n",
    "print(sum_of_2(3, 5))  # 8"
   ]
  },
  {
   "cell_type": "code",
   "execution_count": 4,
   "id": "b278dd6c",
   "metadata": {},
   "outputs": [
    {
     "name": "stdout",
     "output_type": "stream",
     "text": [
      "0\n",
      "2\n",
      "5\n"
     ]
    }
   ],
   "source": [
    "# With default values\n",
    "\n",
    "def sum_of_2(a=0, b=0):\n",
    "    return a + b\n",
    "\n",
    "# Usage\n",
    "print(sum_of_2())         # 0\n",
    "print(sum_of_2(2))        # 2 (b=0)\n",
    "print(sum_of_2(2, 3))     # 5"
   ]
  },
  {
   "cell_type": "code",
   "execution_count": 5,
   "id": "cdb1f488",
   "metadata": {},
   "outputs": [
    {
     "name": "stdout",
     "output_type": "stream",
     "text": [
      "15\n"
     ]
    }
   ],
   "source": [
    "# Named parameters with defaults\n",
    "def sum_of_2(num1=0, num2=0):\n",
    "    return num1 + num2\n",
    "\n",
    "# Usage\n",
    "print(sum_of_2(num1=5, num2=10))  # 15"
   ]
  },
  {
   "cell_type": "code",
   "execution_count": 8,
   "id": "f4bc802c",
   "metadata": {},
   "outputs": [
    {
     "name": "stdout",
     "output_type": "stream",
     "text": [
      "3\n",
      "10\n"
     ]
    }
   ],
   "source": [
    "# Using \\*args (positional arguments tuple)\n",
    "def sum_of_2(*args):\n",
    "    return sum(args[:5])  # Only sum the first two\n",
    "\n",
    "# Usage\n",
    "print(sum_of_2(1, 2))         # 3\n",
    "print(sum_of_2(1, 2, 3, 4))   # 3 (ignores extra)"
   ]
  },
  {
   "cell_type": "code",
   "execution_count": 9,
   "id": "e7dd4a83",
   "metadata": {},
   "outputs": [
    {
     "name": "stdout",
     "output_type": "stream",
     "text": [
      "10\n",
      "0\n"
     ]
    }
   ],
   "source": [
    "# Using \\**kwargs (keyword arguments dict)\n",
    "def sum_of_2(**kwargs):\n",
    "    return kwargs.get(\"a\", 0) + kwargs.get(\"b\", 0)\n",
    "\n",
    "# Usage\n",
    "print(sum_of_2(a=4, b=6))  # 10\n",
    "print(sum_of_2())          # 0"
   ]
  },
  {
   "cell_type": "code",
   "execution_count": 10,
   "id": "48e643c3",
   "metadata": {},
   "outputs": [
    {
     "name": "stdout",
     "output_type": "stream",
     "text": [
      "12\n"
     ]
    }
   ],
   "source": [
    "# Accepting a dictionary as a single argument\n",
    "def sum_of_2(input_dict):\n",
    "    return input_dict.get(\"a\", 0) + input_dict.get(\"b\", 0)\n",
    "\n",
    "# Usage\n",
    "print(sum_of_2({\"a\": 5, \"b\": 7}))  # 12"
   ]
  },
  {
   "cell_type": "code",
   "execution_count": 11,
   "id": "186051e7",
   "metadata": {},
   "outputs": [
    {
     "name": "stdout",
     "output_type": "stream",
     "text": [
      "5\n"
     ]
    }
   ],
   "source": [
    "# Unpacking a dictionary into parameters\n",
    "def sum_of_2(a=0, b=0):\n",
    "    return a + b\n",
    "\n",
    "# Usage\n",
    "params = {\"a\": 2, \"b\": 3}\n",
    "print(sum_of_2(**params))  # 5"
   ]
  },
  {
   "cell_type": "code",
   "execution_count": 12,
   "id": "fb29e8f4",
   "metadata": {},
   "outputs": [],
   "source": [
    "# Function with input type checking\n",
    "def sum_of_2(a=0, b=0):\n",
    "    if not isinstance(a, (int, float)) or not isinstance(b, (int, float)):\n",
    "        raise ValueError(\"Inputs must be numbers.\")\n",
    "    return a + b"
   ]
  },
  {
   "cell_type": "markdown",
   "id": "7caebe67",
   "metadata": {},
   "source": [
    "### Python dictionaries recap\n",
    "\n",
    "A **dictionary** is a **collection of key-value pairs**. Think of it like a real dictionary: a word (key) maps to a definition (value).\n",
    "\n",
    "#### Creating a Dictionary\n"
   ]
  },
  {
   "cell_type": "code",
   "execution_count": 26,
   "id": "418c8bf2",
   "metadata": {},
   "outputs": [],
   "source": [
    "person = {\n",
    "    \"name\": \"Alice\",\n",
    "    \"age\": 25,\n",
    "    \"city\": \"London\"\n",
    "}"
   ]
  },
  {
   "cell_type": "code",
   "execution_count": 14,
   "id": "697a656e",
   "metadata": {},
   "outputs": [],
   "source": [
    "person = dict(name=\"Alice\", age=25, city=\"London\")"
   ]
  },
  {
   "cell_type": "code",
   "execution_count": 20,
   "id": "80ef3f83",
   "metadata": {},
   "outputs": [
    {
     "name": "stdout",
     "output_type": "stream",
     "text": [
      "Alice\n",
      "bal\n"
     ]
    }
   ],
   "source": [
    "print(person[\"name\"])  # Alice\n",
    "\n",
    "# Safer way to access (avoids KeyError)\n",
    "print(person.get(\"job\", \"bal\"))  # Not found"
   ]
  },
  {
   "cell_type": "code",
   "execution_count": 27,
   "id": "d8bba6ab",
   "metadata": {},
   "outputs": [],
   "source": [
    "person[\"job\"] = \"Engineer\""
   ]
  },
  {
   "cell_type": "code",
   "execution_count": 22,
   "id": "1741ba11",
   "metadata": {},
   "outputs": [],
   "source": [
    "person[\"age\"] = 26"
   ]
  },
  {
   "cell_type": "code",
   "execution_count": 23,
   "id": "0170f162",
   "metadata": {},
   "outputs": [],
   "source": [
    "del person[\"city\"]          # Remove by key\n",
    "job = person.pop(\"job\")     # Remove and get value\n",
    "person.clear()              # Empty the dictionary"
   ]
  },
  {
   "cell_type": "code",
   "execution_count": 24,
   "id": "cb1b4bce",
   "metadata": {},
   "outputs": [],
   "source": [
    "for key in person:\n",
    "    print(key)  # Print keys\n",
    "\n",
    "for value in person.values():\n",
    "    print(value)  # Print values\n",
    "\n",
    "for key, value in person.items():\n",
    "    print(f\"{key}: {value}\")  # Key-value pairs"
   ]
  },
  {
   "cell_type": "code",
   "execution_count": 28,
   "id": "d58e9e81",
   "metadata": {},
   "outputs": [
    {
     "name": "stdout",
     "output_type": "stream",
     "text": [
      "4\n"
     ]
    }
   ],
   "source": [
    "print(len(person))  # Number of key-value pairs"
   ]
  },
  {
   "cell_type": "code",
   "execution_count": 29,
   "id": "2498cd38",
   "metadata": {},
   "outputs": [
    {
     "name": "stdout",
     "output_type": "stream",
     "text": [
      "Alice\n"
     ]
    }
   ],
   "source": [
    "students = {\n",
    "    \"student1\": {\"name\": \"Alice\", \"age\": 20},\n",
    "    \"student2\": {\"name\": \"Bob\", \"age\": 22}\n",
    "}\n",
    "\n",
    "print(students[\"student1\"][\"name\"])  # Alice"
   ]
  },
  {
   "cell_type": "markdown",
   "id": "50e278ad",
   "metadata": {},
   "source": [
    "#### Useful Dictionary Methods\n",
    "\n",
    "| Method          | Description                               |\n",
    "| --------------- | ----------------------------------------- |\n",
    "| `dict.get(key)` | Returns value or default if key not found |\n",
    "| `dict.keys()`   | Returns all keys                          |\n",
    "| `dict.values()` | Returns all values                        |\n",
    "| `dict.items()`  | Returns list of (key, value) tuples       |\n",
    "| `dict.update()` | Adds or updates key-value pairs           |\n",
    "| `dict.pop(key)` | Removes and returns a value by key        |\n",
    "\n",
    "#### Tips\n",
    "\n",
    "- Keys must be immutable (string, number, tuple).\n",
    "- Values can be any type (string, list, dict, etc.).\n",
    "- Keys are unique—you can’t have duplicates.\n",
    "\n",
    "---\n",
    "\n",
    "#### How do they work?\n",
    "\n",
    "Python dictionaries are implemented using a hash table under the hood. This means they map each key to a location in memory using a hash function.\n",
    "\n",
    "> A hash table is a data structure that stores key-value pairs and allows fast access to values using keys — usually in O(1) time on average.\n",
    ">\n",
    "> * Hash Function: Converts a key (like \"name\") into a number (called a hash).\n",
    ">\n",
    "> * Indexing: That number points to a specific location (bucket) in memory.\n",
    ">\n",
    "> * Storage: The value is stored in that bucket with its key.\n",
    ">\n",
    "> ```python\n",
    "> d = {\"name\": \"Alice\"}\n",
    "> ```\n",
    ">\n",
    "> Behind the scenes:\n",
    ">\n",
    "> - `\"name\"` is hashed to an index (e.g., `42`)\n",
    "> - `\"Alice\"` is stored at index `42`\n",
    ">\n",
    "> What If Two Keys Hash to Same Index?\n",
    ">\n",
    "> This is called a collision. Python handles it using a method like open addressing or chaining.\n",
    "\n",
    "#### Common Dictionary Operations & Their Complexity\n",
    "\n",
    "| Operation          | Average Case | Worst Case | Description                    |\n",
    "| ------------------ | ------------ | ---------- | ------------------------------ |\n",
    "| `d[key]`           | O(1)         | O(n)       | Lookup a value by key          |\n",
    "| `d[key] = value`   | O(1)         | O(n)       | Insert or update a key         |\n",
    "| `del d[key]`       | O(1)         | O(n)       | Delete a key-value pair        |\n",
    "| `key in d`         | O(1)         | O(n)       | Check if key exists            |\n",
    "| Iterating over `d` | O(n)         | O(n)       | Loop through keys/values/items |\n",
    "\n",
    "#### Why Worst Case is O(n)?\n",
    "\n",
    "In very rare cases, Python's hash table might:\n",
    "\n",
    "- Have many hash collisions\n",
    "- Degenerate into scanning a list (like a backup plan)\n",
    "\n",
    "Example: If many keys hash to the same location (bad luck or deliberate attack), the performance drops to O(n). But Python handles this very well in practice.\n",
    "\n",
    "#### What Makes Dictionaries So Fast?\n",
    "\n",
    "- Hash tables give nearly constant-time access.\n",
    "- Python optimizes memory layout, caching, and resizing.\n",
    "- In Python 3.6+, dictionaries preserve insertion order, but it doesn’t affect time complexity.\n",
    "\n",
    "```python\n",
    "# Lookup (O(1) average)\n",
    "d = {\"a\": 1, \"b\": 2, \"c\": 3}\n",
    "print(d[\"b\"])  # Fast\n",
    "\n",
    "# Insertion (O(1) average)\n",
    "d[\"d\"] = 4\n",
    "\n",
    "# Deletion (O(1) average)\n",
    "del d[\"a\"]\n",
    "```"
   ]
  },
  {
   "cell_type": "markdown",
   "id": "69d6d277",
   "metadata": {},
   "source": []
  }
 ],
 "metadata": {
  "kernelspec": {
   "display_name": "Python 3",
   "language": "python",
   "name": "python3"
  },
  "language_info": {
   "codemirror_mode": {
    "name": "ipython",
    "version": 3
   },
   "file_extension": ".py",
   "mimetype": "text/x-python",
   "name": "python",
   "nbconvert_exporter": "python",
   "pygments_lexer": "ipython3",
   "version": "3.13.0"
  }
 },
 "nbformat": 4,
 "nbformat_minor": 5
}
